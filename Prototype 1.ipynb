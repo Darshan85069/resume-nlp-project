{
 "cells": [
  {
   "cell_type": "code",
   "execution_count": 1,
   "id": "e7ba6ef1",
   "metadata": {},
   "outputs": [],
   "source": [
    "import numpy as np\n",
    "import pandas as pd"
   ]
  },
  {
   "cell_type": "code",
   "execution_count": 2,
   "id": "0ef51238",
   "metadata": {},
   "outputs": [],
   "source": [
    "data =pd.read_csv('UpdatedResumeDataSet.csv')"
   ]
  },
  {
   "cell_type": "code",
   "execution_count": 3,
   "id": "4b9238cb",
   "metadata": {},
   "outputs": [
    {
     "data": {
      "text/html": [
       "<div>\n",
       "<style scoped>\n",
       "    .dataframe tbody tr th:only-of-type {\n",
       "        vertical-align: middle;\n",
       "    }\n",
       "\n",
       "    .dataframe tbody tr th {\n",
       "        vertical-align: top;\n",
       "    }\n",
       "\n",
       "    .dataframe thead th {\n",
       "        text-align: right;\n",
       "    }\n",
       "</style>\n",
       "<table border=\"1\" class=\"dataframe\">\n",
       "  <thead>\n",
       "    <tr style=\"text-align: right;\">\n",
       "      <th></th>\n",
       "      <th>Category</th>\n",
       "      <th>Resume</th>\n",
       "    </tr>\n",
       "  </thead>\n",
       "  <tbody>\n",
       "    <tr>\n",
       "      <th>0</th>\n",
       "      <td>Data Science</td>\n",
       "      <td>Skills * Programming Languages: Python (pandas...</td>\n",
       "    </tr>\n",
       "    <tr>\n",
       "      <th>1</th>\n",
       "      <td>Data Science</td>\n",
       "      <td>Education Details \\r\\nMay 2013 to May 2017 B.E...</td>\n",
       "    </tr>\n",
       "    <tr>\n",
       "      <th>2</th>\n",
       "      <td>Data Science</td>\n",
       "      <td>Areas of Interest Deep Learning, Control Syste...</td>\n",
       "    </tr>\n",
       "    <tr>\n",
       "      <th>3</th>\n",
       "      <td>Data Science</td>\n",
       "      <td>Skills â¢ R â¢ Python â¢ SAP HANA â¢ Table...</td>\n",
       "    </tr>\n",
       "    <tr>\n",
       "      <th>4</th>\n",
       "      <td>Data Science</td>\n",
       "      <td>Education Details \\r\\n MCA   YMCAUST,  Faridab...</td>\n",
       "    </tr>\n",
       "    <tr>\n",
       "      <th>...</th>\n",
       "      <td>...</td>\n",
       "      <td>...</td>\n",
       "    </tr>\n",
       "    <tr>\n",
       "      <th>957</th>\n",
       "      <td>Testing</td>\n",
       "      <td>Computer Skills: â¢ Proficient in MS office (...</td>\n",
       "    </tr>\n",
       "    <tr>\n",
       "      <th>958</th>\n",
       "      <td>Testing</td>\n",
       "      <td>â Willingness to accept the challenges. â ...</td>\n",
       "    </tr>\n",
       "    <tr>\n",
       "      <th>959</th>\n",
       "      <td>Testing</td>\n",
       "      <td>PERSONAL SKILLS â¢ Quick learner, â¢ Eagerne...</td>\n",
       "    </tr>\n",
       "    <tr>\n",
       "      <th>960</th>\n",
       "      <td>Testing</td>\n",
       "      <td>COMPUTER SKILLS &amp; SOFTWARE KNOWLEDGE MS-Power ...</td>\n",
       "    </tr>\n",
       "    <tr>\n",
       "      <th>961</th>\n",
       "      <td>Testing</td>\n",
       "      <td>Skill Set OS Windows XP/7/8/8.1/10 Database MY...</td>\n",
       "    </tr>\n",
       "  </tbody>\n",
       "</table>\n",
       "<p>962 rows × 2 columns</p>\n",
       "</div>"
      ],
      "text/plain": [
       "         Category                                             Resume\n",
       "0    Data Science  Skills * Programming Languages: Python (pandas...\n",
       "1    Data Science  Education Details \\r\\nMay 2013 to May 2017 B.E...\n",
       "2    Data Science  Areas of Interest Deep Learning, Control Syste...\n",
       "3    Data Science  Skills â¢ R â¢ Python â¢ SAP HANA â¢ Table...\n",
       "4    Data Science  Education Details \\r\\n MCA   YMCAUST,  Faridab...\n",
       "..            ...                                                ...\n",
       "957       Testing  Computer Skills: â¢ Proficient in MS office (...\n",
       "958       Testing  â Willingness to accept the challenges. â ...\n",
       "959       Testing  PERSONAL SKILLS â¢ Quick learner, â¢ Eagerne...\n",
       "960       Testing  COMPUTER SKILLS & SOFTWARE KNOWLEDGE MS-Power ...\n",
       "961       Testing  Skill Set OS Windows XP/7/8/8.1/10 Database MY...\n",
       "\n",
       "[962 rows x 2 columns]"
      ]
     },
     "execution_count": 3,
     "metadata": {},
     "output_type": "execute_result"
    }
   ],
   "source": [
    "data"
   ]
  },
  {
   "cell_type": "code",
   "execution_count": 4,
   "id": "d5eae8a0",
   "metadata": {},
   "outputs": [
    {
     "data": {
      "text/plain": [
       "Category    0\n",
       "Resume      0\n",
       "dtype: int64"
      ]
     },
     "execution_count": 4,
     "metadata": {},
     "output_type": "execute_result"
    }
   ],
   "source": [
    "data.isna().sum()"
   ]
  },
  {
   "cell_type": "code",
   "execution_count": 5,
   "id": "0c7cc3c4",
   "metadata": {},
   "outputs": [],
   "source": [
    "import re\n",
    "import nltk\n",
    "from nltk.corpus import stopwords\n",
    "from nltk.stem import WordNetLemmatizer"
   ]
  },
  {
   "cell_type": "code",
   "execution_count": 6,
   "id": "f98b28cc",
   "metadata": {},
   "outputs": [
    {
     "data": {
      "text/plain": [
       "Java Developer               84\n",
       "Testing                      70\n",
       "DevOps Engineer              55\n",
       "Python Developer             48\n",
       "Web Designing                45\n",
       "HR                           44\n",
       "Hadoop                       42\n",
       "Blockchain                   40\n",
       "ETL Developer                40\n",
       "Operations Manager           40\n",
       "Data Science                 40\n",
       "Sales                        40\n",
       "Mechanical Engineer          40\n",
       "Arts                         36\n",
       "Database                     33\n",
       "Electrical Engineering       30\n",
       "Health and fitness           30\n",
       "PMO                          30\n",
       "Business Analyst             28\n",
       "DotNet Developer             28\n",
       "Automation Testing           26\n",
       "Network Security Engineer    25\n",
       "SAP Developer                24\n",
       "Civil Engineer               24\n",
       "Advocate                     20\n",
       "Name: Category, dtype: int64"
      ]
     },
     "execution_count": 6,
     "metadata": {},
     "output_type": "execute_result"
    }
   ],
   "source": [
    "data.Category.value_counts()"
   ]
  },
  {
   "cell_type": "code",
   "execution_count": 7,
   "id": "72904202",
   "metadata": {},
   "outputs": [],
   "source": [
    "from imblearn.over_sampling import SMOTE"
   ]
  },
  {
   "cell_type": "code",
   "execution_count": 8,
   "id": "03e735a8",
   "metadata": {},
   "outputs": [],
   "source": [
    "smote = SMOTE(sampling_strategy='minority')"
   ]
  },
  {
   "cell_type": "code",
   "execution_count": 9,
   "id": "a4a94a76",
   "metadata": {},
   "outputs": [],
   "source": [
    "stop_words = stopwords.words('english')\n",
    "lematizer = WordNetLemmatizer()"
   ]
  },
  {
   "cell_type": "code",
   "execution_count": 10,
   "id": "ebd7ba2f",
   "metadata": {},
   "outputs": [],
   "source": [
    "pattern = r'[^A-Za-z0-9 ]+'\n",
    "def preprocessing(text):\n",
    "    #removing unwanted characters\n",
    "    text = re.sub(pattern, '', text)\n",
    "    #Tockenize\n",
    "    tokens = nltk.word_tokenize(text)\n",
    "    #removing stop word\n",
    "    tokens = [token for token in tokens if token not in stop_words]\n",
    "    #lematise\n",
    "    tokens = [lematizer.lemmatize(token) for token in tokens]\n",
    "    # join tokens back into a string\n",
    "    text = ' '.join(tokens)\n",
    "    return text"
   ]
  },
  {
   "cell_type": "code",
   "execution_count": 11,
   "id": "c99b2377",
   "metadata": {},
   "outputs": [
    {
     "data": {
      "text/html": [
       "<div>\n",
       "<style scoped>\n",
       "    .dataframe tbody tr th:only-of-type {\n",
       "        vertical-align: middle;\n",
       "    }\n",
       "\n",
       "    .dataframe tbody tr th {\n",
       "        vertical-align: top;\n",
       "    }\n",
       "\n",
       "    .dataframe thead th {\n",
       "        text-align: right;\n",
       "    }\n",
       "</style>\n",
       "<table border=\"1\" class=\"dataframe\">\n",
       "  <thead>\n",
       "    <tr style=\"text-align: right;\">\n",
       "      <th></th>\n",
       "      <th>Category</th>\n",
       "      <th>Resume</th>\n",
       "    </tr>\n",
       "  </thead>\n",
       "  <tbody>\n",
       "    <tr>\n",
       "      <th>0</th>\n",
       "      <td>Data Science</td>\n",
       "      <td>Skills Programming Languages Python panda nump...</td>\n",
       "    </tr>\n",
       "    <tr>\n",
       "      <th>1</th>\n",
       "      <td>Data Science</td>\n",
       "      <td>Education Details May 2013 May 2017 BE UITRGPV...</td>\n",
       "    </tr>\n",
       "    <tr>\n",
       "      <th>2</th>\n",
       "      <td>Data Science</td>\n",
       "      <td>Areas Interest Deep Learning Control System De...</td>\n",
       "    </tr>\n",
       "    <tr>\n",
       "      <th>3</th>\n",
       "      <td>Data Science</td>\n",
       "      <td>Skills R Python SAP HANA Tableau SAP HANA SQL ...</td>\n",
       "    </tr>\n",
       "    <tr>\n",
       "      <th>4</th>\n",
       "      <td>Data Science</td>\n",
       "      <td>Education Details MCA YMCAUST Faridabad Haryan...</td>\n",
       "    </tr>\n",
       "    <tr>\n",
       "      <th>...</th>\n",
       "      <td>...</td>\n",
       "      <td>...</td>\n",
       "    </tr>\n",
       "    <tr>\n",
       "      <th>957</th>\n",
       "      <td>Testing</td>\n",
       "      <td>Computer Skills Proficient MS office Word Basi...</td>\n",
       "    </tr>\n",
       "    <tr>\n",
       "      <th>958</th>\n",
       "      <td>Testing</td>\n",
       "      <td>Willingness accept challenge Positive thinking...</td>\n",
       "    </tr>\n",
       "    <tr>\n",
       "      <th>959</th>\n",
       "      <td>Testing</td>\n",
       "      <td>PERSONAL SKILLS Quick learner Eagerness learn ...</td>\n",
       "    </tr>\n",
       "    <tr>\n",
       "      <th>960</th>\n",
       "      <td>Testing</td>\n",
       "      <td>COMPUTER SKILLS SOFTWARE KNOWLEDGE MSPower Poi...</td>\n",
       "    </tr>\n",
       "    <tr>\n",
       "      <th>961</th>\n",
       "      <td>Testing</td>\n",
       "      <td>Skill Set OS Windows XP788110 Database MYSQL s...</td>\n",
       "    </tr>\n",
       "  </tbody>\n",
       "</table>\n",
       "<p>962 rows × 2 columns</p>\n",
       "</div>"
      ],
      "text/plain": [
       "         Category                                             Resume\n",
       "0    Data Science  Skills Programming Languages Python panda nump...\n",
       "1    Data Science  Education Details May 2013 May 2017 BE UITRGPV...\n",
       "2    Data Science  Areas Interest Deep Learning Control System De...\n",
       "3    Data Science  Skills R Python SAP HANA Tableau SAP HANA SQL ...\n",
       "4    Data Science  Education Details MCA YMCAUST Faridabad Haryan...\n",
       "..            ...                                                ...\n",
       "957       Testing  Computer Skills Proficient MS office Word Basi...\n",
       "958       Testing  Willingness accept challenge Positive thinking...\n",
       "959       Testing  PERSONAL SKILLS Quick learner Eagerness learn ...\n",
       "960       Testing  COMPUTER SKILLS SOFTWARE KNOWLEDGE MSPower Poi...\n",
       "961       Testing  Skill Set OS Windows XP788110 Database MYSQL s...\n",
       "\n",
       "[962 rows x 2 columns]"
      ]
     },
     "execution_count": 11,
     "metadata": {},
     "output_type": "execute_result"
    }
   ],
   "source": [
    "data['Resume'] = data['Resume'].apply(preprocessing)\n",
    "data"
   ]
  },
  {
   "cell_type": "code",
   "execution_count": 12,
   "id": "641e78d8",
   "metadata": {},
   "outputs": [
    {
     "data": {
      "text/plain": [
       "0      skills programming languages python panda nump...\n",
       "1      education details may 2013 may 2017 be uitrgpv...\n",
       "2      areas interest deep learning control system de...\n",
       "3      skills r python sap hana tableau sap hana sql ...\n",
       "4      education details mca ymcaust faridabad haryan...\n",
       "                             ...                        \n",
       "957    computer skills proficient ms office word basi...\n",
       "958    willingness accept challenge positive thinking...\n",
       "959    personal skills quick learner eagerness learn ...\n",
       "960    computer skills software knowledge mspower poi...\n",
       "961    skill set os windows xp788110 database mysql s...\n",
       "Name: Resume, Length: 962, dtype: object"
      ]
     },
     "execution_count": 12,
     "metadata": {},
     "output_type": "execute_result"
    }
   ],
   "source": [
    "data['Resume'] = data['Resume'].apply(str.lower)\n",
    "data['Resume']"
   ]
  },
  {
   "cell_type": "code",
   "execution_count": 13,
   "id": "f5bec170",
   "metadata": {},
   "outputs": [
    {
     "data": {
      "text/plain": [
       "array(['Data Science', 'HR', 'Advocate', 'Arts', 'Web Designing',\n",
       "       'Mechanical Engineer', 'Sales', 'Health and fitness',\n",
       "       'Civil Engineer', 'Java Developer', 'Business Analyst',\n",
       "       'SAP Developer', 'Automation Testing', 'Electrical Engineering',\n",
       "       'Operations Manager', 'Python Developer', 'DevOps Engineer',\n",
       "       'Network Security Engineer', 'PMO', 'Database', 'Hadoop',\n",
       "       'ETL Developer', 'DotNet Developer', 'Blockchain', 'Testing'],\n",
       "      dtype=object)"
      ]
     },
     "execution_count": 13,
     "metadata": {},
     "output_type": "execute_result"
    }
   ],
   "source": [
    "data.Category.unique()"
   ]
  },
  {
   "cell_type": "code",
   "execution_count": 14,
   "id": "deccbba6",
   "metadata": {},
   "outputs": [],
   "source": [
    "from sklearn.preprocessing import LabelEncoder\n",
    "from sklearn.feature_extraction.text import TfidfVectorizer\n",
    "from sklearn.model_selection import train_test_split\n",
    "from sklearn.multiclass import OneVsRestClassifier\n",
    "#train_test_split is to split and train the data. KNeighborsClassifier is for K nearest neighbor.\n",
    "from sklearn.neighbors import KNeighborsClassifier\n",
    "#LogisticRegression is the module used to implement logistic regression.\n",
    "from sklearn.linear_model import LogisticRegression\n",
    "#If the hyperplane classifies the dataset linearly then the algorithm we call it as SVC.T\n",
    "#he algorithm that separates the dataset by non-linear approach then we call it as SVM.\n",
    "from sklearn.svm import SVC\n",
    "from sklearn.ensemble import RandomForestClassifier\n",
    "from sklearn.ensemble import GradientBoostingClassifier\n",
    "from sklearn.ensemble import RandomForestClassifier"
   ]
  },
  {
   "cell_type": "code",
   "execution_count": 15,
   "id": "81992884",
   "metadata": {},
   "outputs": [],
   "source": [
    "X = data['Resume'].values\n",
    "enc=LabelEncoder()\n",
    "y= data.Category.values\n",
    "y = enc.fit_transform(y)"
   ]
  },
  {
   "cell_type": "code",
   "execution_count": 16,
   "id": "53f8411d",
   "metadata": {
    "scrolled": true
   },
   "outputs": [
    {
     "data": {
      "text/plain": [
       "array(['skills programming languages python panda numpy scipy scikitlearn matplotlib sql java javascriptjquery machine learning regression svm nave bayes knn random forest decision trees boosting technique cluster analysis word embedding sentiment analysis natural language processing dimensionality reduction topic modelling lda nmf pca neural nets database visualizations mysql sqlserver cassandra hbase elasticsearch d3js dcjs plotly kibana matplotlib ggplot tableau others regular expression html css angular 6 logstash kafka python flask git docker computer vision open cv understanding deep learningeducation details data science assurance associate data science assurance associate ernst young llpskill details javascript exprience 24 monthsjquery exprience 24 monthspython exprience 24 monthscompany details company ernst young llpdescription fraud investigations dispute services assurancetechnology assisted reviewtar technology assisted review assist accelerating review process run analytics generate report core member team helped developing automated review platform tool scratch assisting e discovery domain tool implement predictive coding topic modelling automating review resulting reduced labor cost time spent lawyer review understand end end flow solution research development classification model predictive analysis mining information present text data worked analyzing output precision monitoring entire tool tar assist predictive coding topic modelling evidence following ey standard developed classifier model order identify red flag fraudrelated issuestools technologies python scikitlearn tfidf word2vec doc2vec cosine similarity nave bayes lda nmf topic modelling vader text blob sentiment analysis matplot lib tableau dashboard reportingmultiple data science and analytic projects usa clientstext analytics motor vehicle customer review data received customer feedback survey data past one year performed sentiment positive negative neutral time series analysis customer comment across 4 category created heat map term survey category based frequency word extracted positive negative word across survey category plotted word cloud created customized tableau dashboard effective reporting visualizationschatbot developed user friendly chatbot one products handle simple question hour operation reservation option this chat bot serf entire product related question giving overview tool via qa platform also give recommendation response user question build chain relevant answer this intelligence build pipeline question per user requirement asks relevant recommended questionstools technologies python natural language processing nltk spacy topic modelling sentiment analysis word embedding scikitlearn javascriptjquery sqlserverinformation governanceorganizations make informed decision information store the integrated information governance portfolio synthesizes intelligence across unstructured data source facilitates action ensure organization best positioned counter information risk scan data multiple source format parse different file format extract meta data information push result indexing elastic search created customized interactive dashboard using kibana preforming rot analysis data give information data help identify content either redundant outdated trivial preforming fulltext search analysis elastic search predefined method tag pii personally identifiable information social security number address name etc frequently targeted cyberattackstools technologies python flask elastic search kibanafraud analytic platformfraud analytics investigative platform review red flag case fap fraud analytics investigative platform inbuilt case manager suite analytics various erp system it used client interrogate accounting system identifying anomaly indicator fraud running advanced analyticstools technologies html javascript sqlserver jquery css bootstrap nodejs d3js dcjs'],\n",
       "      dtype=object)"
      ]
     },
     "execution_count": 16,
     "metadata": {},
     "output_type": "execute_result"
    }
   ],
   "source": [
    "X[:1]"
   ]
  },
  {
   "cell_type": "code",
   "execution_count": 17,
   "id": "fadbca6f",
   "metadata": {},
   "outputs": [
    {
     "data": {
      "text/plain": [
       "array([6, 6, 6, 6, 6])"
      ]
     },
     "execution_count": 17,
     "metadata": {},
     "output_type": "execute_result"
    }
   ],
   "source": [
    "y[:5]"
   ]
  },
  {
   "cell_type": "code",
   "execution_count": 18,
   "id": "a6b48db8",
   "metadata": {},
   "outputs": [],
   "source": [
    "word_vectorizer = TfidfVectorizer(sublinear_tf=True, stop_words='english')\n",
    "word_vectorizer.fit(X)\n",
    "WordFeatures= word_vectorizer.transform(X)"
   ]
  },
  {
   "cell_type": "code",
   "execution_count": 19,
   "id": "375ffa8d",
   "metadata": {},
   "outputs": [],
   "source": [
    "from imblearn.over_sampling import SMOTE"
   ]
  },
  {
   "cell_type": "code",
   "execution_count": 21,
   "id": "8a6ccd73",
   "metadata": {},
   "outputs": [],
   "source": [
    "X,y= smote.fit_resample(WordFeatures,y)"
   ]
  },
  {
   "cell_type": "code",
   "execution_count": 22,
   "id": "93271a8b",
   "metadata": {},
   "outputs": [],
   "source": [
    "X_train,X_test,y_train,y_test= train_test_split(X, y, random_state=42,stratify=y)"
   ]
  },
  {
   "cell_type": "code",
   "execution_count": 23,
   "id": "44dd098b",
   "metadata": {},
   "outputs": [
    {
     "name": "stdout",
     "output_type": "stream",
     "text": [
      "(769, 9539)\n",
      "(257, 9539)\n"
     ]
    }
   ],
   "source": [
    "print(X_train.shape)\n",
    "print(X_test.shape)"
   ]
  },
  {
   "cell_type": "code",
   "execution_count": 25,
   "id": "4e0a5632",
   "metadata": {},
   "outputs": [],
   "source": [
    "models = {\n",
    "    'K-Nearest Neighbors' : KNeighborsClassifier(),\n",
    "    'Logistic Regression' : LogisticRegression(),\n",
    "    'Support Vector Machine' : SVC(),\n",
    "    'Random Forest' : RandomForestClassifier()    \n",
    "}"
   ]
  },
  {
   "cell_type": "code",
   "execution_count": 26,
   "id": "0c8c5802",
   "metadata": {},
   "outputs": [
    {
     "data": {
      "text/plain": [
       "[OneVsRestClassifier(estimator=KNeighborsClassifier()),\n",
       " OneVsRestClassifier(estimator=LogisticRegression()),\n",
       " OneVsRestClassifier(estimator=SVC()),\n",
       " OneVsRestClassifier(estimator=RandomForestClassifier())]"
      ]
     },
     "execution_count": 26,
     "metadata": {},
     "output_type": "execute_result"
    }
   ],
   "source": [
    "model_list=[]\n",
    "for model in models.values():\n",
    "    model_list.append(OneVsRestClassifier(model))\n",
    "model_list"
   ]
  },
  {
   "cell_type": "code",
   "execution_count": 27,
   "id": "001cd717",
   "metadata": {},
   "outputs": [
    {
     "name": "stdout",
     "output_type": "stream",
     "text": [
      "The 4 Estimator we used:\n",
      "1.KNeighborsClassifier\n",
      "2.LogisticRegresssion\n",
      "3.SVC\n",
      "4.RandomForestClassifier\n",
      "\n",
      "OneVsRestClassifier(estimator=KNeighborsClassifier()) trained\n",
      "OneVsRestClassifier(estimator=LogisticRegression()) trained\n",
      "OneVsRestClassifier(estimator=SVC()) trained\n",
      "OneVsRestClassifier(estimator=RandomForestClassifier()) trained\n",
      "************************************************************\n",
      "all models trained\n"
     ]
    }
   ],
   "source": [
    "print(\"The 4 Estimator we used:\")\n",
    "print(\"1.KNeighborsClassifier\\n2.LogisticRegresssion\\n3.SVC\\n4.RandomForestClassifier\\n\")\n",
    "for i in model_list:\n",
    "    i.fit(X_train, y_train)\n",
    "    print(f'{i} trained')\n",
    "\n",
    "print(\"*\"*60)\n",
    "print(\"all models trained\")"
   ]
  },
  {
   "cell_type": "code",
   "execution_count": 28,
   "id": "c5d9757a",
   "metadata": {},
   "outputs": [
    {
     "name": "stdout",
     "output_type": "stream",
     "text": [
      "Accuracy of OneVsRestClassifier(estimator=KNeighborsClassifier()) on training set : 0.9492847854356307\n",
      "Accuracy of OneVsRestClassifier(estimator=KNeighborsClassifier()) on test set : 0.8638132295719845\n",
      "****************************************************************************************************\n",
      "\n",
      "\n",
      "Accuracy of OneVsRestClassifier(estimator=LogisticRegression()) on training set : 1.0\n",
      "Accuracy of OneVsRestClassifier(estimator=LogisticRegression()) on test set : 0.9922178988326849\n",
      "****************************************************************************************************\n",
      "\n",
      "\n",
      "Accuracy of OneVsRestClassifier(estimator=SVC()) on training set : 1.0\n",
      "Accuracy of OneVsRestClassifier(estimator=SVC()) on test set : 1.0\n",
      "****************************************************************************************************\n",
      "\n",
      "\n",
      "Accuracy of OneVsRestClassifier(estimator=RandomForestClassifier()) on training set : 1.0\n",
      "Accuracy of OneVsRestClassifier(estimator=RandomForestClassifier()) on test set : 0.9922178988326849\n",
      "****************************************************************************************************\n",
      "\n",
      "\n"
     ]
    }
   ],
   "source": [
    "for count, value in enumerate(model_list):\n",
    "    print(f\"Accuracy of {value} on training set :\", model_list[count].score(X_train, y_train))\n",
    "    print(f\"Accuracy of {value} on test set :\", model_list[count].score(X_test, y_test))\n",
    "    print(\"*\"*100)\n",
    "    print(\"\\n\")"
   ]
  },
  {
   "cell_type": "code",
   "execution_count": 29,
   "id": "147778e9",
   "metadata": {},
   "outputs": [],
   "source": [
    "from sklearn.metrics import confusion_matrix as CM\n",
    "from sklearn.metrics import classification_report\n",
    "\n",
    "from sklearn.metrics import roc_curve\n",
    "from sklearn.metrics import roc_auc_score"
   ]
  },
  {
   "cell_type": "code",
   "execution_count": 30,
   "id": "2a6b9102",
   "metadata": {},
   "outputs": [
    {
     "name": "stdout",
     "output_type": "stream",
     "text": [
      "OneVsRestClassifier(estimator=KNeighborsClassifier()) classification report\n",
      "--------------------------------------------------------------------------------\n",
      "              precision    recall  f1-score   support\n",
      "\n",
      "           0       0.38      1.00      0.55        21\n",
      "           1       1.00      1.00      1.00         9\n",
      "           2       1.00      0.33      0.50         6\n",
      "           3       1.00      1.00      1.00        10\n",
      "           4       1.00      0.86      0.92         7\n",
      "           5       1.00      0.17      0.29         6\n",
      "           6       1.00      0.60      0.75        10\n",
      "           7       1.00      0.62      0.77         8\n",
      "           8       1.00      1.00      1.00        14\n",
      "           9       1.00      0.29      0.44         7\n",
      "          10       1.00      1.00      1.00        10\n",
      "          11       1.00      1.00      1.00         8\n",
      "          12       1.00      0.64      0.78        11\n",
      "          13       1.00      1.00      1.00        11\n",
      "          14       1.00      0.62      0.77         8\n",
      "          15       1.00      0.81      0.89        21\n",
      "          16       1.00      1.00      1.00        10\n",
      "          17       1.00      1.00      1.00         6\n",
      "          18       1.00      1.00      1.00        10\n",
      "          19       1.00      1.00      1.00         7\n",
      "          20       1.00      1.00      1.00        12\n",
      "          21       1.00      0.67      0.80         6\n",
      "          22       1.00      1.00      1.00        10\n",
      "          23       1.00      1.00      1.00        18\n",
      "          24       1.00      1.00      1.00        11\n",
      "\n",
      "    accuracy                           0.86       257\n",
      "   macro avg       0.97      0.82      0.86       257\n",
      "weighted avg       0.95      0.86      0.87       257\n",
      "\n",
      "****************************************************************************************************\n",
      " \n",
      "OneVsRestClassifier(estimator=LogisticRegression()) classification report\n",
      "--------------------------------------------------------------------------------\n",
      "              precision    recall  f1-score   support\n",
      "\n",
      "           0       1.00      1.00      1.00        21\n",
      "           1       1.00      1.00      1.00         9\n",
      "           2       1.00      0.67      0.80         6\n",
      "           3       1.00      1.00      1.00        10\n",
      "           4       1.00      1.00      1.00         7\n",
      "           5       1.00      1.00      1.00         6\n",
      "           6       1.00      1.00      1.00        10\n",
      "           7       1.00      1.00      1.00         8\n",
      "           8       1.00      1.00      1.00        14\n",
      "           9       1.00      1.00      1.00         7\n",
      "          10       1.00      1.00      1.00        10\n",
      "          11       1.00      1.00      1.00         8\n",
      "          12       1.00      1.00      1.00        11\n",
      "          13       1.00      1.00      1.00        11\n",
      "          14       1.00      1.00      1.00         8\n",
      "          15       1.00      1.00      1.00        21\n",
      "          16       1.00      1.00      1.00        10\n",
      "          17       1.00      1.00      1.00         6\n",
      "          18       1.00      1.00      1.00        10\n",
      "          19       1.00      1.00      1.00         7\n",
      "          20       1.00      1.00      1.00        12\n",
      "          21       1.00      1.00      1.00         6\n",
      "          22       1.00      1.00      1.00        10\n",
      "          23       0.90      1.00      0.95        18\n",
      "          24       1.00      1.00      1.00        11\n",
      "\n",
      "    accuracy                           0.99       257\n",
      "   macro avg       1.00      0.99      0.99       257\n",
      "weighted avg       0.99      0.99      0.99       257\n",
      "\n",
      "****************************************************************************************************\n",
      " \n",
      "OneVsRestClassifier(estimator=SVC()) classification report\n",
      "--------------------------------------------------------------------------------\n",
      "              precision    recall  f1-score   support\n",
      "\n",
      "           0       1.00      1.00      1.00        21\n",
      "           1       1.00      1.00      1.00         9\n",
      "           2       1.00      1.00      1.00         6\n",
      "           3       1.00      1.00      1.00        10\n",
      "           4       1.00      1.00      1.00         7\n",
      "           5       1.00      1.00      1.00         6\n",
      "           6       1.00      1.00      1.00        10\n",
      "           7       1.00      1.00      1.00         8\n",
      "           8       1.00      1.00      1.00        14\n",
      "           9       1.00      1.00      1.00         7\n",
      "          10       1.00      1.00      1.00        10\n",
      "          11       1.00      1.00      1.00         8\n",
      "          12       1.00      1.00      1.00        11\n",
      "          13       1.00      1.00      1.00        11\n",
      "          14       1.00      1.00      1.00         8\n",
      "          15       1.00      1.00      1.00        21\n",
      "          16       1.00      1.00      1.00        10\n",
      "          17       1.00      1.00      1.00         6\n",
      "          18       1.00      1.00      1.00        10\n",
      "          19       1.00      1.00      1.00         7\n",
      "          20       1.00      1.00      1.00        12\n",
      "          21       1.00      1.00      1.00         6\n",
      "          22       1.00      1.00      1.00        10\n",
      "          23       1.00      1.00      1.00        18\n",
      "          24       1.00      1.00      1.00        11\n",
      "\n",
      "    accuracy                           1.00       257\n",
      "   macro avg       1.00      1.00      1.00       257\n",
      "weighted avg       1.00      1.00      1.00       257\n",
      "\n",
      "****************************************************************************************************\n",
      " \n",
      "OneVsRestClassifier(estimator=RandomForestClassifier()) classification report\n",
      "--------------------------------------------------------------------------------\n",
      "              precision    recall  f1-score   support\n",
      "\n",
      "           0       1.00      1.00      1.00        21\n",
      "           1       1.00      1.00      1.00         9\n",
      "           2       1.00      0.67      0.80         6\n",
      "           3       1.00      1.00      1.00        10\n",
      "           4       1.00      1.00      1.00         7\n",
      "           5       1.00      1.00      1.00         6\n",
      "           6       1.00      1.00      1.00        10\n",
      "           7       1.00      1.00      1.00         8\n",
      "           8       1.00      1.00      1.00        14\n",
      "           9       1.00      1.00      1.00         7\n",
      "          10       1.00      1.00      1.00        10\n",
      "          11       1.00      1.00      1.00         8\n",
      "          12       1.00      1.00      1.00        11\n",
      "          13       1.00      1.00      1.00        11\n",
      "          14       1.00      1.00      1.00         8\n",
      "          15       0.91      1.00      0.95        21\n",
      "          16       1.00      1.00      1.00        10\n",
      "          17       1.00      1.00      1.00         6\n",
      "          18       1.00      1.00      1.00        10\n",
      "          19       1.00      1.00      1.00         7\n",
      "          20       1.00      1.00      1.00        12\n",
      "          21       1.00      1.00      1.00         6\n",
      "          22       1.00      1.00      1.00        10\n",
      "          23       1.00      1.00      1.00        18\n",
      "          24       1.00      1.00      1.00        11\n",
      "\n",
      "    accuracy                           0.99       257\n",
      "   macro avg       1.00      0.99      0.99       257\n",
      "weighted avg       0.99      0.99      0.99       257\n",
      "\n",
      "****************************************************************************************************\n",
      " \n"
     ]
    }
   ],
   "source": [
    "for count, value in enumerate(model_list):\n",
    "    print(f'{value} classification report')\n",
    "    print(\"-\"*80)\n",
    "    print(classification_report(y_test, model_list[count].predict(X_test)))\n",
    "    print(\"*\"*100)\n",
    "    print(\" \")"
   ]
  },
  {
   "cell_type": "code",
   "execution_count": 33,
   "id": "3a616eeb",
   "metadata": {},
   "outputs": [],
   "source": [
    "svc = model_list[2]"
   ]
  },
  {
   "cell_type": "code",
   "execution_count": 35,
   "id": "9bd0d6a5",
   "metadata": {},
   "outputs": [
    {
     "data": {
      "text/plain": [
       "array(['Data Science'], dtype=object)"
      ]
     },
     "execution_count": 35,
     "metadata": {},
     "output_type": "execute_result"
    }
   ],
   "source": [
    "enc.inverse_transform(svc.predict(word_vectorizer.transform(np.array(['i am a data scientist i had learn python pandas numpy machine learning deep learning i have a grat experience in machine learning deep learning and i had do many project like nlp image classification etc']))))"
   ]
  },
  {
   "cell_type": "code",
   "execution_count": 37,
   "id": "2ac2b8dd",
   "metadata": {},
   "outputs": [],
   "source": [
    "import pickle"
   ]
  },
  {
   "cell_type": "code",
   "execution_count": 38,
   "id": "25b3dcbd",
   "metadata": {},
   "outputs": [],
   "source": [
    "pickle.dump(svc,open('svc_model','wb'))"
   ]
  },
  {
   "cell_type": "code",
   "execution_count": 39,
   "id": "c60f2600",
   "metadata": {},
   "outputs": [],
   "source": [
    "pickle.dump(word_vectorizer,open('word_vectorizer','wb'))"
   ]
  },
  {
   "cell_type": "code",
   "execution_count": 40,
   "id": "56c37bb5",
   "metadata": {},
   "outputs": [],
   "source": [
    "pickle.dump(enc,open('Label_encoder','wb'))"
   ]
  },
  {
   "cell_type": "code",
   "execution_count": null,
   "id": "ecc0347c",
   "metadata": {},
   "outputs": [],
   "source": []
  }
 ],
 "metadata": {
  "kernelspec": {
   "display_name": "Python 3 (ipykernel)",
   "language": "python",
   "name": "python3"
  },
  "language_info": {
   "codemirror_mode": {
    "name": "ipython",
    "version": 3
   },
   "file_extension": ".py",
   "mimetype": "text/x-python",
   "name": "python",
   "nbconvert_exporter": "python",
   "pygments_lexer": "ipython3",
   "version": "3.10.9"
  }
 },
 "nbformat": 4,
 "nbformat_minor": 5
}
